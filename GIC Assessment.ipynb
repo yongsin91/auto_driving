{
 "cells": [
  {
   "cell_type": "code",
   "execution_count": 1,
   "id": "01ed1a61-dbee-47c3-833a-4e53f1b54545",
   "metadata": {},
   "outputs": [],
   "source": [
    "import re\n",
    "import math"
   ]
  },
  {
   "cell_type": "code",
   "execution_count": 2,
   "id": "05c90c04-34e1-4181-b5d7-0475fc4f9a00",
   "metadata": {},
   "outputs": [],
   "source": [
    "def field_check():\n",
    "    while True:\n",
    "        user_input = input(\n",
    "        f'''Welcome to Auto Driving Car Simulation!\n",
    "        \\nPlease enter the width and height of the simulation field in x y format:\\n''')\n",
    "        \n",
    "        # Regular expression to match exactly two integers separated by space\n",
    "        if re.fullmatch(r\"\\d+ \\d+\", user_input):\n",
    "            \n",
    "            # Split the input and convert to integers\n",
    "            num1, num2 = map(int, user_input.split())\n",
    "            \n",
    "            # Check if both integers are within the specified range  \n",
    "            print(f\"You have created a field of {num1} x {num2}.\")\n",
    "            return num1, num2\n",
    "        else:\n",
    "            print(\"Invalid input. Please enter exactly two integers separated by a space.\")\n"
   ]
  },
  {
   "cell_type": "code",
   "execution_count": 3,
   "id": "1b296bd4-b8e8-49f2-91ea-2ed2bcb19a1b",
   "metadata": {},
   "outputs": [],
   "source": [
    "def main_menu():\n",
    "\n",
    "    while True:\n",
    "        result = input('''\n",
    "        \\nPlease choose from the following options:\n",
    "        \\n[1] Add a car to field\n",
    "        \\n[2] Run simulation\\n''').strip()\n",
    "\n",
    "        if result.isdigit() and (int(result) == 1 or int(result) == 2) :\n",
    "            return int(result)\n",
    "        else:\n",
    "            print(\"\\nPlease choose either [1] or [2] only\")\n",
    "\n",
    "# main_menu()"
   ]
  },
  {
   "cell_type": "code",
   "execution_count": 4,
   "id": "9c4be147-f6bc-4126-8c8d-9d1011172e78",
   "metadata": {},
   "outputs": [],
   "source": [
    "def car_start(num1,num2,data):\n",
    "\n",
    "    while True:\n",
    "        car_name = input(\"Please input the name of the car:\\n\").strip().upper()\n",
    "        if car_name in [a[0] for a in data]:\n",
    "            overwrite_check = input(\"This name already exists, do you want to overwrite? Y/N\").strip().upper()\n",
    "            if overwrite_check == 'Y':\n",
    "                #remove existing data\n",
    "                data = [ a for a in data if a[0]!=car_name ]\n",
    "            else:\n",
    "                continue\n",
    "            \n",
    "        initial_pos = input(f\"Please enter initial position of car {car_name} in x y Direction format:\\n\")\n",
    "\n",
    "        # to ensure position given are in the correct format\n",
    "        if re.fullmatch(r\"\\d+ \\d+ [nsewNSEW]\", initial_pos):\n",
    "\n",
    "            # to ensure position given are not already occupied\n",
    "            if initial_pos in [a[1] in data]:\n",
    "                print(\"Location already occupied. Please start at a new location\")\n",
    "                continue\n",
    "\n",
    "            # to ensure position given are within the initial boundary     \n",
    "            xi, yi, di = initial_pos.split()\n",
    "            if int(xi) <= num1 and int(yi) <= num2 and int(xi)>=0 and int(yi) >=0 :\n",
    "                direction = input(f\"Please enter the commands for car {car_name}:\\n\").strip()\n",
    "            else: \n",
    "                print(f\"Impossible initial position. The simulation field size is {num1} x {num2}. Please try again.\\n\")\n",
    "                continue\n",
    "\n",
    "            # to ensure comands given are in correct format\n",
    "            if re.fullmatch(r\"[lrfLRF]+\", direction):\n",
    "                return [car_name, f\"({xi},{yi}) {di.upper()}\", direction.upper()]\n",
    "            else:\n",
    "                print(\"Error. Please try again in the correct format.\\n\")\n",
    "                \n",
    "        else:\n",
    "            print(\"Error. Please try again in the correct format for the 3 variables - x y direction(NSEW only) .\\n\")\n",
    "\n",
    "\n",
    "# test2 = car_start(5,5,[['a',4,6],['b',1,2]])                           "
   ]
  },
  {
   "cell_type": "code",
   "execution_count": 5,
   "id": "b183694d-d115-4f25-8916-da3641e9fd2c",
   "metadata": {},
   "outputs": [],
   "source": [
    "def move_forward(direction,curr_x, curr_y):\n",
    "    # Move the object forward by the given distance.\n",
    "    radian_angle = math.radians(direction)\n",
    "    curr_x +=  math.sin(radian_angle)\n",
    "    curr_y +=  math.cos(radian_angle)\n",
    "    return round(curr_x), round(curr_y)\n",
    "    \n",
    "def rotate_left(data):\n",
    "    # Rotate the object left (counter-clockwise) by the given angle in degrees.\n",
    "    return (data - 90)\n",
    "\n",
    "def rotate_right(data):\n",
    "    # Rotate the object right (clockwise) by the given angle in degrees.\n",
    "    return (data + 90)\n"
   ]
  },
  {
   "cell_type": "code",
   "execution_count": 6,
   "id": "c9df4d68-c978-48fd-a3cf-c497e067f242",
   "metadata": {},
   "outputs": [],
   "source": [
    "def clashing_cars(pnt, data):\n",
    "    # check if any cars having matching location\n",
    "    pnt_tmp = pnt[1].split()[0]\n",
    "    data_tmp = [ [a[0], a[1].split()[0]] for a in data ]\n",
    "    all_position = [ a[0] for a in data_tmp if a[1] == pnt_tmp and a[0] != pnt[0]]\n",
    "\n",
    "    #to return False if list is empty, else return the list of collided cars\n",
    "    if not all_position :\n",
    "        return False \n",
    "    else:\n",
    "        return all_position"
   ]
  },
  {
   "cell_type": "code",
   "execution_count": 55,
   "id": "82c7d822-099b-47e8-af13-1ca10ac97f6e",
   "metadata": {},
   "outputs": [],
   "source": [
    "def run_simulation(data, x, y):\n",
    "    max_len = max([len(a[2]) for a in data])\n",
    "    direction = {'N':0, 'E':90, 'S':180, 'W':270}\n",
    "    \n",
    "    # to loop through all possible commands \n",
    "    for a in range(max_len):\n",
    "        \n",
    "        # to loop through all cars\n",
    "        for index, b in enumerate(data):\n",
    "\n",
    "            # to check if it's final position clashes with any existing car position in board\n",
    "            check = clashing_cars(b,data)\n",
    "            if check:\n",
    "                # collided cars will be appended to the end of list for tracking \n",
    "                b[4]=check\n",
    "                # print(b)\n",
    "                continue\n",
    "            # print(b)\n",
    "            #to skip the loop if it went out of range\n",
    "            if len(b[2]) < a+1:\n",
    "                continue\n",
    "                      \n",
    "            #extract current position and direction from list\n",
    "            curr_pos, curr_dir = b[1].split()\n",
    "            digits = re.findall(r'\\d+', curr_pos)\n",
    "            curr_x, curr_y = list(map(int, digits))\n",
    "\n",
    "            # calculation\n",
    "            # to rotate or move base on the command\n",
    "            if b[2][a] =='L':\n",
    "                tmp = rotate_left(direction[curr_dir])\n",
    "                curr_dir = [k for k, v in direction.items() if v == tmp][0]\n",
    "            elif b[2][a] == 'R':\n",
    "                tmp = rotate_right(direction[curr_dir])\n",
    "                curr_dir = [k for k, v in direction.items() if v == tmp][0]\n",
    "            else: \n",
    "                curr_x, curr_y =  move_forward(direction[curr_dir], curr_x, curr_y)\n",
    "                \n",
    "            # to check if it's final position exceeds board boundary\n",
    "            if curr_x > x or curr_y > y or curr_x < 0 or curr_y < 0:\n",
    "                continue\n",
    "\n",
    "            # update car new position into the list \n",
    "            b[1] = f\"({curr_x},{curr_y}) {curr_dir}\"\n",
    "            \n",
    "            #update loop\n",
    "            b[3] +=1\n",
    "    \n",
    "    # output the result\n",
    "    for a in data:\n",
    "        if a[4] == '0':\n",
    "            print(f\"{a[0]}, {a[1]}, {a[3]} ,{a[4]}\")\n",
    "        else: \n",
    "            location = a[1].split()[0]\n",
    "            col_cars = \", \".join(a[4])\n",
    "            print(f\"{a[0]} , collided with {col_cars} at {location} at step {a[3]}\")\n",
    "    "
   ]
  },
  {
   "cell_type": "code",
   "execution_count": 56,
   "id": "3445bd08-97e2-4515-9e9b-2def307f5bc0",
   "metadata": {},
   "outputs": [],
   "source": [
    "first = ['A', '(1,2) N', 'FFRFFFFRRL']\n",
    "second = ['B', '(7,8) W', 'FFLFFFFFFF']\n",
    "third = ['C','(5,2) E', 'LFFLRLRL']\n",
    "fourth = ['D','(5,4) W', 'LRLRLRLR']"
   ]
  },
  {
   "cell_type": "code",
   "execution_count": 57,
   "id": "151ceb08-4ec0-49bd-a7a7-e56ceb144138",
   "metadata": {},
   "outputs": [
    {
     "name": "stdout",
     "output_type": "stream",
     "text": [
      "A , collided with B, C, D at (5,4) at step 7\n",
      "B , collided with A, C, D at (5,4) at step 7\n",
      "C , collided with A, B, D at (5,4) at step 3\n",
      "D , collided with A, B, C at (5,4) at step 2\n"
     ]
    }
   ],
   "source": [
    "test = [first,second, third, fourth]\n",
    "test = [ b + [0]+['0'] for b in test ]\n",
    "run_simulation(test,10,10)\n",
    "# clashing_cars(first,test)"
   ]
  },
  {
   "cell_type": "markdown",
   "id": "6b3663db-20cb-45ac-a8f1-aba00f097a48",
   "metadata": {},
   "source": []
  },
  {
   "cell_type": "code",
   "execution_count": 291,
   "id": "04040763-373c-41d4-b956-1a1964f82ba6",
   "metadata": {},
   "outputs": [],
   "source": [
    "def main():\n",
    "    num1, num2 = field_check()\n",
    "    registry = []\n",
    "    loop1 = True\n",
    "    loop2 = True\n",
    "    while loop1 :\n",
    "        selection = main_menu()\n",
    "        \n",
    "        if selection == 1:\n",
    "            registry.append(car_start(num1,num2, registry))\n",
    "        else: \n",
    "            #to add a marker tracking steps of car during looping and collision\n",
    "            #registry format : [ 'car name','car position', 'command', 'step','collided cars' ]\n",
    "            registry = [ b + [0] + ['0'] for b in registry ]\n",
    "            result = run_simulation(registry, num1, num2)\n",
    "\n",
    "            while loop2:\n",
    "                check = input('''\n",
    "                \\nPlease choose from the following options:\n",
    "                \\n[1] Start over\n",
    "                \\n[2] Exit\\n''').strip()\n",
    "    \n",
    "                if check =='1':\n",
    "                    registry = []\n",
    "                    loop2 = False \n",
    "    \n",
    "                elif check =='2':\n",
    "                    loop1 = False\n",
    "                    loop2 = False \n",
    "                else:\n",
    "                    print(\"Please enter either [1] or [2] only.\")\n",
    "\n",
    "            loop2 = True\n",
    "\n"
   ]
  },
  {
   "cell_type": "code",
   "execution_count": 292,
   "id": "e0d83c4c-02f8-4840-aeb6-b324d81da0c5",
   "metadata": {
    "scrolled": true
   },
   "outputs": [
    {
     "name": "stdin",
     "output_type": "stream",
     "text": [
      "Welcome to Auto Driving Car Simulation!\n",
      "        \n",
      "Please enter the width and height of the simulation field in x y format:\n",
      " １０　１０\n"
     ]
    },
    {
     "name": "stdout",
     "output_type": "stream",
     "text": [
      "Invalid input. Please enter exactly two integers separated by a space.\n"
     ]
    },
    {
     "name": "stdin",
     "output_type": "stream",
     "text": [
      "Welcome to Auto Driving Car Simulation!\n",
      "        \n",
      "Please enter the width and height of the simulation field in x y format:\n",
      " 10 10\n"
     ]
    },
    {
     "name": "stdout",
     "output_type": "stream",
     "text": [
      "You have created a field of 10 x 10.\n"
     ]
    },
    {
     "name": "stdin",
     "output_type": "stream",
     "text": [
      "\n",
      "        \n",
      "Please choose from the following options:\n",
      "        \n",
      "[1] Add a car to field\n",
      "        \n",
      "[2] Run simulation\n",
      " 1\n",
      "Please input the name of the car:\n",
      " a\n",
      "Please enter initial position of car a in x y Direction format:\n",
      " 1 2 n\n",
      "Please enter the commands for car a:\n",
      " frfrl\n",
      "\n",
      "        \n",
      "Please choose from the following options:\n",
      "        \n",
      "[1] Add a car to field\n",
      "        \n",
      "[2] Run simulation\n",
      " 2\n"
     ]
    },
    {
     "name": "stdout",
     "output_type": "stream",
     "text": [
      "a, (2,3) E\n"
     ]
    },
    {
     "name": "stdin",
     "output_type": "stream",
     "text": [
      "\n",
      "                \n",
      "Please choose from the following options:\n",
      "                \n",
      "[1] Start over\n",
      "                \n",
      "[2] Exit\n",
      " 1\n",
      "\n",
      "        \n",
      "Please choose from the following options:\n",
      "        \n",
      "[1] Add a car to field\n",
      "        \n",
      "[2] Run simulation\n",
      " 1\n",
      "Please input the name of the car:\n",
      " a\n",
      "Please enter initial position of car a in x y Direction format:\n",
      " 1 2 n\n",
      "Please enter the commands for car a:\n",
      " fffff\n",
      "\n",
      "        \n",
      "Please choose from the following options:\n",
      "        \n",
      "[1] Add a car to field\n",
      "        \n",
      "[2] Run simulation\n",
      " 20\n"
     ]
    },
    {
     "name": "stdout",
     "output_type": "stream",
     "text": [
      "\n",
      "Please choose either [1] or [2] only\n"
     ]
    },
    {
     "name": "stdin",
     "output_type": "stream",
     "text": [
      "\n",
      "        \n",
      "Please choose from the following options:\n",
      "        \n",
      "[1] Add a car to field\n",
      "        \n",
      "[2] Run simulation\n",
      " 2\n"
     ]
    },
    {
     "name": "stdout",
     "output_type": "stream",
     "text": [
      "a, (1,7) N\n"
     ]
    },
    {
     "name": "stdin",
     "output_type": "stream",
     "text": [
      "\n",
      "                \n",
      "Please choose from the following options:\n",
      "                \n",
      "[1] Start over\n",
      "                \n",
      "[2] Exit\n",
      " 2\n"
     ]
    }
   ],
   "source": [
    "main()"
   ]
  }
 ],
 "metadata": {
  "kernelspec": {
   "display_name": "Python 3 (ipykernel)",
   "language": "python",
   "name": "python3"
  },
  "language_info": {
   "codemirror_mode": {
    "name": "ipython",
    "version": 3
   },
   "file_extension": ".py",
   "mimetype": "text/x-python",
   "name": "python",
   "nbconvert_exporter": "python",
   "pygments_lexer": "ipython3",
   "version": "3.12.2"
  }
 },
 "nbformat": 4,
 "nbformat_minor": 5
}
